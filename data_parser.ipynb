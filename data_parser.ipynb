{
 "cells": [
  {
   "cell_type": "code",
   "execution_count": null,
   "metadata": {
    "collapsed": true
   },
   "outputs": [],
   "source": [
    "import pandas as pd\n",
    "import geopandas"
   ]
  },
  {
   "cell_type": "code",
   "execution_count": null,
   "outputs": [],
   "source": [
    "poi = geopandas.read_file(\"data/points-of-interest.geojson\")\n",
    "samm = geopandas.read_file(\"data/sammelstellen.geojson\")\n",
    "robidog = geopandas.read_file(\"data/hundekotbehalter.geojson\")\n",
    "mobility = geopandas.read_file('data/mobility-stationen-und-fahrzeuge-schweiz.geojson')\n",
    "begegnung = geopandas.read_file('data/begegnungszonen.geojson')\n",
    "tempo30 = geopandas.read_file('data/tempo-30-zonen.geojson')\n",
    "veloplaetze = geopandas.read_file('data/veloabstellplatze.geojson')\n",
    "parkplaetze = geopandas.read_file('data/parkplatze-und-parkhauser-stadt-stgallen.geojson')\n",
    "beleuchtung = geopandas.read_file('data/offentliche-beleuchtung-stadt-stgallen.geojson')\n",
    "eladestation = geopandas.read_file('data/ladestationen-fur-elektroautos-im-kanton-stgallen.geojson')\n",
    "ovhaltestelle = geopandas.read_file('data/haltestelle-didok.geojson')\n",
    "eventplaetze = geopandas.read_file('data/eventplatze-offentlicher-raum-stadt-stgallen.geojson')"
   ],
   "metadata": {
    "collapsed": false
   }
  },
  {
   "cell_type": "code",
   "execution_count": null,
   "outputs": [],
   "source": [
    "datasets = {\n",
    "    'Sammelstelle': samm,\n",
    "    'Robidog': robidog,\n",
    "    # 'Mobility': mobility,\n",
    "    'Begegnung': begegnung,\n",
    "    'Tempo30': tempo30,\n",
    "    'VeloPlaetze': veloplaetze,\n",
    "    'Parkplaetze': parkplaetze,\n",
    "    # 'Beleuchtung': beleuchtung,\n",
    "    # 'E-Ladestation': eladestation,\n",
    "    'OV-Haltestelle': ovhaltestelle,\n",
    "    'EventPlaetze': eventplaetze\n",
    "}"
   ],
   "metadata": {
    "collapsed": false
   }
  },
  {
   "cell_type": "code",
   "execution_count": null,
   "outputs": [],
   "source": [
    "merged = geopandas.read_file('data/merged.csv')\n",
    "data = geopandas.GeoDataFrame(merged, geometry=geopandas.points_from_xy(merged.longitude, merged.latitude))\n",
    "data = data.set_crs('EPSG:4326', allow_override=True) # coordinates\n",
    "print('CRS added:',data.crs is not None)\n",
    "print('Columns before:', len(data.columns))\n",
    "print('Rows before:',len(data.index))"
   ],
   "metadata": {
    "collapsed": false
   }
  },
  {
   "cell_type": "code",
   "execution_count": null,
   "outputs": [],
   "source": [
    "def join_nearest(left_set, right_set, title, max_dist=1000, plot=True):\n",
    "    col_name = f'dist_to_{title.lower()}'\n",
    "    if col_name in left_set.columns:\n",
    "        print(f'{title} exists already, skipping...')\n",
    "        return left_set\n",
    "    else:\n",
    "        left_meters = left_set.to_crs('EPSG:3857') # meters\n",
    "        right_meters = right_set.to_crs('EPSG:3857') # meters\n",
    "        res = left_meters.sjoin_nearest(right=right_meters, how='left', max_distance=max_dist, distance_col=col_name, lsuffix=title.lower())\n",
    "        res = res.loc[:, res.columns == col_name]\n",
    "        left_set[col_name] = res\n",
    "        if plot:\n",
    "            res.plot(col_name, legend=True)\n",
    "        print(f'{title} added')\n",
    "        return left_set"
   ],
   "metadata": {
    "collapsed": false
   }
  },
  {
   "cell_type": "code",
   "execution_count": null,
   "outputs": [],
   "source": [
    "for x, d in enumerate(datasets):\n",
    "    print('dataset:', f'{x+1}/{len(datasets)}')\n",
    "    data = join_nearest(data, datasets[d], d, max_dist=10000, plot=False)\n",
    "print('Columns after:', len(data.columns))\n",
    "print('Rows after:',len(data.index))"
   ],
   "metadata": {
    "collapsed": false
   }
  },
  {
   "cell_type": "code",
   "execution_count": null,
   "outputs": [],
   "source": [
    "data\n"
   ],
   "metadata": {
    "collapsed": false
   }
  },
  {
   "cell_type": "code",
   "execution_count": null,
   "outputs": [],
   "source": [
    "data.to_csv('merged_new_cols.csv')"
   ],
   "metadata": {
    "collapsed": false
   }
  },
  {
   "cell_type": "code",
   "execution_count": null,
   "outputs": [],
   "source": [],
   "metadata": {
    "collapsed": false
   }
  }
 ],
 "metadata": {
  "kernelspec": {
   "display_name": "Python 3",
   "language": "python",
   "name": "python3"
  },
  "language_info": {
   "codemirror_mode": {
    "name": "ipython",
    "version": 2
   },
   "file_extension": ".py",
   "mimetype": "text/x-python",
   "name": "python",
   "nbconvert_exporter": "python",
   "pygments_lexer": "ipython2",
   "version": "2.7.6"
  }
 },
 "nbformat": 4,
 "nbformat_minor": 0
}
