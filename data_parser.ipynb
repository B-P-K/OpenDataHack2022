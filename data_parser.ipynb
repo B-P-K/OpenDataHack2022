{
 "cells": [
  {
   "cell_type": "code",
   "execution_count": 128,
   "metadata": {
    "collapsed": true
   },
   "outputs": [],
   "source": [
    "import pandas as pd\n",
    "import geopandas"
   ]
  },
  {
   "cell_type": "code",
   "execution_count": 129,
   "outputs": [],
   "source": [
    "poi = geopandas.read_file(\"data/points-of-interest.geojson\")\n",
    "samm = geopandas.read_file(\"data/sammelstellen.geojson\")\n",
    "robidog = geopandas.read_file(\"data/hundekotbehalter.geojson\")\n",
    "mobility = geopandas.read_file('data/mobility-stationen-und-fahrzeuge-schweiz.geojson')\n",
    "begegnung = geopandas.read_file('data/begegnungszonen.geojson')\n",
    "tempo30 = geopandas.read_file('data/tempo-30-zonen.geojson')\n",
    "veloplaetze = geopandas.read_file('data/veloabstellplatze.geojson')\n",
    "parkplaetze = geopandas.read_file('data/parkplatze-und-parkhauser-stadt-stgallen.geojson')\n",
    "beleuchtung = geopandas.read_file('data/offentliche-beleuchtung-stadt-stgallen.geojson')\n",
    "eladestation = geopandas.read_file('data/ladestationen-fur-elektroautos-im-kanton-stgallen.geojson')\n",
    "ovhaltestelle = geopandas.read_file('data/haltestelle-didok.geojson')\n",
    "eventplaetze = geopandas.read_file('data/eventplatze-offentlicher-raum-stadt-stgallen.geojson')"
   ],
   "metadata": {
    "collapsed": false
   }
  },
  {
   "cell_type": "code",
   "execution_count": 201,
   "outputs": [],
   "source": [
    "datasets = {\n",
    "    'Sammelstelle': samm,\n",
    "    'Robidog': robidog,\n",
    "    # 'Mobility': mobility,\n",
    "    'Begegnung': begegnung,\n",
    "    'Tempo30': tempo30,\n",
    "    'VeloPlaetze': veloplaetze,\n",
    "    'Parkplaetze': parkplaetze,\n",
    "    # 'Beleuchtung': beleuchtung,\n",
    "    # 'E-Ladestation': eladestation,\n",
    "    'OV-Haltestelle': ovhaltestelle,\n",
    "    'EventPlaetze': eventplaetze\n",
    "}"
   ],
   "metadata": {
    "collapsed": false
   }
  },
  {
   "cell_type": "code",
   "execution_count": 179,
   "outputs": [
    {
     "name": "stdout",
     "output_type": "stream",
     "text": [
      "CRS added: True\n",
      "Columns before: 19\n",
      "Rows before: 44945\n"
     ]
    }
   ],
   "source": [
    "merged = geopandas.read_file('data/merged.csv')\n",
    "data = geopandas.GeoDataFrame(merged, geometry=geopandas.points_from_xy(merged.longitude, merged.latitude))\n",
    "data = data.set_crs('EPSG:4326', allow_override=True) # coordinates\n",
    "print('CRS added:',data.crs is not None)\n",
    "print('Columns before:', len(data.columns))\n",
    "print('Rows before:',len(data.index))"
   ],
   "metadata": {
    "collapsed": false
   }
  },
  {
   "cell_type": "code",
   "execution_count": 180,
   "outputs": [],
   "source": [
    "def join_nearest(left_set, right_set, title, max_dist=1000, plot=True):\n",
    "    col_name = f'dist_to_{title.lower()}'\n",
    "    if col_name in left_set.columns:\n",
    "        print(f'{title} exists already, skipping...')\n",
    "        return left_set\n",
    "    else:\n",
    "        left_meters = left_set.to_crs('EPSG:3857') # meters\n",
    "        right_meters = right_set.to_crs('EPSG:3857') # meters\n",
    "        res = left_meters.sjoin_nearest(right=right_meters, how='left', max_distance=max_dist, distance_col=col_name, lsuffix=title.lower())\n",
    "        # res = res.loc[:, res.columns != 'index_right']\n",
    "        res = res.loc[:, res.columns == col_name]\n",
    "        left_set[col_name] = res\n",
    "        if plot:\n",
    "            res.plot(col_name, legend=True)\n",
    "        print(f'{title} added')\n",
    "        return left_set"
   ],
   "metadata": {
    "collapsed": false
   }
  },
  {
   "cell_type": "code",
   "execution_count": 202,
   "outputs": [
    {
     "name": "stdout",
     "output_type": "stream",
     "text": [
      "dataset: 1/9\n",
      "Sammelstelle exists already, skipping...\n",
      "dataset: 2/9\n",
      "Robidog exists already, skipping...\n",
      "dataset: 3/9\n"
     ]
    },
    {
     "name": "stderr",
     "output_type": "stream",
     "text": [
      "/opt/miniconda3/envs/hackathon/lib/python3.11/site-packages/geopandas/geodataframe.py:1443: FutureWarning: reindexing with a non-unique Index is deprecated and will raise in a future version.\n",
      "  super().__setitem__(key, value)\n"
     ]
    },
    {
     "ename": "ValueError",
     "evalue": "cannot reindex on an axis with duplicate labels",
     "output_type": "error",
     "traceback": [
      "\u001B[0;31m---------------------------------------------------------------------------\u001B[0m",
      "\u001B[0;31mValueError\u001B[0m                                Traceback (most recent call last)",
      "Cell \u001B[0;32mIn [202], line 3\u001B[0m\n\u001B[1;32m      1\u001B[0m \u001B[38;5;28;01mfor\u001B[39;00m x, d \u001B[38;5;129;01min\u001B[39;00m \u001B[38;5;28menumerate\u001B[39m(datasets):\n\u001B[1;32m      2\u001B[0m     \u001B[38;5;28mprint\u001B[39m(\u001B[38;5;124m'\u001B[39m\u001B[38;5;124mdataset:\u001B[39m\u001B[38;5;124m'\u001B[39m, \u001B[38;5;124mf\u001B[39m\u001B[38;5;124m'\u001B[39m\u001B[38;5;132;01m{\u001B[39;00mx\u001B[38;5;241m+\u001B[39m\u001B[38;5;241m1\u001B[39m\u001B[38;5;132;01m}\u001B[39;00m\u001B[38;5;124m/\u001B[39m\u001B[38;5;132;01m{\u001B[39;00m\u001B[38;5;28mlen\u001B[39m(datasets)\u001B[38;5;132;01m}\u001B[39;00m\u001B[38;5;124m'\u001B[39m)\n\u001B[0;32m----> 3\u001B[0m     data \u001B[38;5;241m=\u001B[39m \u001B[43mjoin_nearest\u001B[49m\u001B[43m(\u001B[49m\u001B[43mdata\u001B[49m\u001B[43m,\u001B[49m\u001B[43m \u001B[49m\u001B[43mdatasets\u001B[49m\u001B[43m[\u001B[49m\u001B[43md\u001B[49m\u001B[43m]\u001B[49m\u001B[43m,\u001B[49m\u001B[43m \u001B[49m\u001B[43md\u001B[49m\u001B[43m,\u001B[49m\u001B[43m \u001B[49m\u001B[43mmax_dist\u001B[49m\u001B[38;5;241;43m=\u001B[39;49m\u001B[38;5;241;43m10000\u001B[39;49m\u001B[43m,\u001B[49m\u001B[43m \u001B[49m\u001B[43mplot\u001B[49m\u001B[38;5;241;43m=\u001B[39;49m\u001B[38;5;28;43;01mFalse\u001B[39;49;00m\u001B[43m)\u001B[49m\n\u001B[1;32m      4\u001B[0m \u001B[38;5;28mprint\u001B[39m(\u001B[38;5;124m'\u001B[39m\u001B[38;5;124mColumns after:\u001B[39m\u001B[38;5;124m'\u001B[39m, \u001B[38;5;28mlen\u001B[39m(data\u001B[38;5;241m.\u001B[39mcolumns))\n\u001B[1;32m      5\u001B[0m \u001B[38;5;28mprint\u001B[39m(\u001B[38;5;124m'\u001B[39m\u001B[38;5;124mRows after:\u001B[39m\u001B[38;5;124m'\u001B[39m,\u001B[38;5;28mlen\u001B[39m(data\u001B[38;5;241m.\u001B[39mindex))\n",
      "Cell \u001B[0;32mIn [180], line 12\u001B[0m, in \u001B[0;36mjoin_nearest\u001B[0;34m(left_set, right_set, title, max_dist, plot)\u001B[0m\n\u001B[1;32m     10\u001B[0m \u001B[38;5;66;03m# res = res.loc[:, res.columns != 'index_right']\u001B[39;00m\n\u001B[1;32m     11\u001B[0m res \u001B[38;5;241m=\u001B[39m res\u001B[38;5;241m.\u001B[39mloc[:, res\u001B[38;5;241m.\u001B[39mcolumns \u001B[38;5;241m==\u001B[39m col_name]\n\u001B[0;32m---> 12\u001B[0m \u001B[43mleft_set\u001B[49m\u001B[43m[\u001B[49m\u001B[43mcol_name\u001B[49m\u001B[43m]\u001B[49m \u001B[38;5;241m=\u001B[39m res\n\u001B[1;32m     13\u001B[0m \u001B[38;5;28;01mif\u001B[39;00m plot:\n\u001B[1;32m     14\u001B[0m     res\u001B[38;5;241m.\u001B[39mplot(col_name, legend\u001B[38;5;241m=\u001B[39m\u001B[38;5;28;01mTrue\u001B[39;00m)\n",
      "File \u001B[0;32m/opt/miniconda3/envs/hackathon/lib/python3.11/site-packages/geopandas/geodataframe.py:1443\u001B[0m, in \u001B[0;36mGeoDataFrame.__setitem__\u001B[0;34m(self, key, value)\u001B[0m\n\u001B[1;32m   1441\u001B[0m     \u001B[38;5;28;01mexcept\u001B[39;00m \u001B[38;5;167;01mTypeError\u001B[39;00m:\n\u001B[1;32m   1442\u001B[0m         warnings\u001B[38;5;241m.\u001B[39mwarn(\u001B[38;5;124m\"\u001B[39m\u001B[38;5;124mGeometry column does not contain geometry.\u001B[39m\u001B[38;5;124m\"\u001B[39m)\n\u001B[0;32m-> 1443\u001B[0m \u001B[38;5;28;43msuper\u001B[39;49m\u001B[43m(\u001B[49m\u001B[43m)\u001B[49m\u001B[38;5;241;43m.\u001B[39;49m\u001B[38;5;21;43m__setitem__\u001B[39;49m\u001B[43m(\u001B[49m\u001B[43mkey\u001B[49m\u001B[43m,\u001B[49m\u001B[43m \u001B[49m\u001B[43mvalue\u001B[49m\u001B[43m)\u001B[49m\n",
      "File \u001B[0;32m/opt/miniconda3/envs/hackathon/lib/python3.11/site-packages/pandas/core/frame.py:3967\u001B[0m, in \u001B[0;36mDataFrame.__setitem__\u001B[0;34m(self, key, value)\u001B[0m\n\u001B[1;32m   3965\u001B[0m     \u001B[38;5;28mself\u001B[39m\u001B[38;5;241m.\u001B[39m_setitem_array(key, value)\n\u001B[1;32m   3966\u001B[0m \u001B[38;5;28;01melif\u001B[39;00m \u001B[38;5;28misinstance\u001B[39m(value, DataFrame):\n\u001B[0;32m-> 3967\u001B[0m     \u001B[38;5;28;43mself\u001B[39;49m\u001B[38;5;241;43m.\u001B[39;49m\u001B[43m_set_item_frame_value\u001B[49m\u001B[43m(\u001B[49m\u001B[43mkey\u001B[49m\u001B[43m,\u001B[49m\u001B[43m \u001B[49m\u001B[43mvalue\u001B[49m\u001B[43m)\u001B[49m\n\u001B[1;32m   3968\u001B[0m \u001B[38;5;28;01melif\u001B[39;00m (\n\u001B[1;32m   3969\u001B[0m     is_list_like(value)\n\u001B[1;32m   3970\u001B[0m     \u001B[38;5;129;01mand\u001B[39;00m \u001B[38;5;129;01mnot\u001B[39;00m \u001B[38;5;28mself\u001B[39m\u001B[38;5;241m.\u001B[39mcolumns\u001B[38;5;241m.\u001B[39mis_unique\n\u001B[1;32m   3971\u001B[0m     \u001B[38;5;129;01mand\u001B[39;00m \u001B[38;5;241m1\u001B[39m \u001B[38;5;241m<\u001B[39m \u001B[38;5;28mlen\u001B[39m(\u001B[38;5;28mself\u001B[39m\u001B[38;5;241m.\u001B[39mcolumns\u001B[38;5;241m.\u001B[39mget_indexer_for([key])) \u001B[38;5;241m==\u001B[39m \u001B[38;5;28mlen\u001B[39m(value)\n\u001B[1;32m   3972\u001B[0m ):\n\u001B[1;32m   3973\u001B[0m     \u001B[38;5;66;03m# Column to set is duplicated\u001B[39;00m\n\u001B[1;32m   3974\u001B[0m     \u001B[38;5;28mself\u001B[39m\u001B[38;5;241m.\u001B[39m_setitem_array([key], value)\n",
      "File \u001B[0;32m/opt/miniconda3/envs/hackathon/lib/python3.11/site-packages/pandas/core/frame.py:4127\u001B[0m, in \u001B[0;36mDataFrame._set_item_frame_value\u001B[0;34m(self, key, value)\u001B[0m\n\u001B[1;32m   4121\u001B[0m \u001B[38;5;28;01mif\u001B[39;00m \u001B[38;5;28mlen\u001B[39m(value\u001B[38;5;241m.\u001B[39mcolumns) \u001B[38;5;241m!=\u001B[39m \u001B[38;5;241m1\u001B[39m:\n\u001B[1;32m   4122\u001B[0m     \u001B[38;5;28;01mraise\u001B[39;00m \u001B[38;5;167;01mValueError\u001B[39;00m(\n\u001B[1;32m   4123\u001B[0m         \u001B[38;5;124m\"\u001B[39m\u001B[38;5;124mCannot set a DataFrame with multiple columns to the single \u001B[39m\u001B[38;5;124m\"\u001B[39m\n\u001B[1;32m   4124\u001B[0m         \u001B[38;5;124mf\u001B[39m\u001B[38;5;124m\"\u001B[39m\u001B[38;5;124mcolumn \u001B[39m\u001B[38;5;132;01m{\u001B[39;00mkey\u001B[38;5;132;01m}\u001B[39;00m\u001B[38;5;124m\"\u001B[39m\n\u001B[1;32m   4125\u001B[0m     )\n\u001B[0;32m-> 4127\u001B[0m \u001B[38;5;28;43mself\u001B[39;49m\u001B[43m[\u001B[49m\u001B[43mkey\u001B[49m\u001B[43m]\u001B[49m \u001B[38;5;241m=\u001B[39m value[value\u001B[38;5;241m.\u001B[39mcolumns[\u001B[38;5;241m0\u001B[39m]]\n",
      "File \u001B[0;32m/opt/miniconda3/envs/hackathon/lib/python3.11/site-packages/geopandas/geodataframe.py:1443\u001B[0m, in \u001B[0;36mGeoDataFrame.__setitem__\u001B[0;34m(self, key, value)\u001B[0m\n\u001B[1;32m   1441\u001B[0m     \u001B[38;5;28;01mexcept\u001B[39;00m \u001B[38;5;167;01mTypeError\u001B[39;00m:\n\u001B[1;32m   1442\u001B[0m         warnings\u001B[38;5;241m.\u001B[39mwarn(\u001B[38;5;124m\"\u001B[39m\u001B[38;5;124mGeometry column does not contain geometry.\u001B[39m\u001B[38;5;124m\"\u001B[39m)\n\u001B[0;32m-> 1443\u001B[0m \u001B[38;5;28;43msuper\u001B[39;49m\u001B[43m(\u001B[49m\u001B[43m)\u001B[49m\u001B[38;5;241;43m.\u001B[39;49m\u001B[38;5;21;43m__setitem__\u001B[39;49m\u001B[43m(\u001B[49m\u001B[43mkey\u001B[49m\u001B[43m,\u001B[49m\u001B[43m \u001B[49m\u001B[43mvalue\u001B[49m\u001B[43m)\u001B[49m\n",
      "File \u001B[0;32m/opt/miniconda3/envs/hackathon/lib/python3.11/site-packages/pandas/core/frame.py:3977\u001B[0m, in \u001B[0;36mDataFrame.__setitem__\u001B[0;34m(self, key, value)\u001B[0m\n\u001B[1;32m   3974\u001B[0m     \u001B[38;5;28mself\u001B[39m\u001B[38;5;241m.\u001B[39m_setitem_array([key], value)\n\u001B[1;32m   3975\u001B[0m \u001B[38;5;28;01melse\u001B[39;00m:\n\u001B[1;32m   3976\u001B[0m     \u001B[38;5;66;03m# set column\u001B[39;00m\n\u001B[0;32m-> 3977\u001B[0m     \u001B[38;5;28;43mself\u001B[39;49m\u001B[38;5;241;43m.\u001B[39;49m\u001B[43m_set_item\u001B[49m\u001B[43m(\u001B[49m\u001B[43mkey\u001B[49m\u001B[43m,\u001B[49m\u001B[43m \u001B[49m\u001B[43mvalue\u001B[49m\u001B[43m)\u001B[49m\n",
      "File \u001B[0;32m/opt/miniconda3/envs/hackathon/lib/python3.11/site-packages/pandas/core/frame.py:4171\u001B[0m, in \u001B[0;36mDataFrame._set_item\u001B[0;34m(self, key, value)\u001B[0m\n\u001B[1;32m   4161\u001B[0m \u001B[38;5;28;01mdef\u001B[39;00m \u001B[38;5;21m_set_item\u001B[39m(\u001B[38;5;28mself\u001B[39m, key, value) \u001B[38;5;241m-\u001B[39m\u001B[38;5;241m>\u001B[39m \u001B[38;5;28;01mNone\u001B[39;00m:\n\u001B[1;32m   4162\u001B[0m     \u001B[38;5;124;03m\"\"\"\u001B[39;00m\n\u001B[1;32m   4163\u001B[0m \u001B[38;5;124;03m    Add series to DataFrame in specified column.\u001B[39;00m\n\u001B[1;32m   4164\u001B[0m \n\u001B[0;32m   (...)\u001B[0m\n\u001B[1;32m   4169\u001B[0m \u001B[38;5;124;03m    ensure homogeneity.\u001B[39;00m\n\u001B[1;32m   4170\u001B[0m \u001B[38;5;124;03m    \"\"\"\u001B[39;00m\n\u001B[0;32m-> 4171\u001B[0m     value \u001B[38;5;241m=\u001B[39m \u001B[38;5;28;43mself\u001B[39;49m\u001B[38;5;241;43m.\u001B[39;49m\u001B[43m_sanitize_column\u001B[49m\u001B[43m(\u001B[49m\u001B[43mvalue\u001B[49m\u001B[43m)\u001B[49m\n\u001B[1;32m   4173\u001B[0m     \u001B[38;5;28;01mif\u001B[39;00m (\n\u001B[1;32m   4174\u001B[0m         key \u001B[38;5;129;01min\u001B[39;00m \u001B[38;5;28mself\u001B[39m\u001B[38;5;241m.\u001B[39mcolumns\n\u001B[1;32m   4175\u001B[0m         \u001B[38;5;129;01mand\u001B[39;00m value\u001B[38;5;241m.\u001B[39mndim \u001B[38;5;241m==\u001B[39m \u001B[38;5;241m1\u001B[39m\n\u001B[1;32m   4176\u001B[0m         \u001B[38;5;129;01mand\u001B[39;00m \u001B[38;5;129;01mnot\u001B[39;00m is_extension_array_dtype(value)\n\u001B[1;32m   4177\u001B[0m     ):\n\u001B[1;32m   4178\u001B[0m         \u001B[38;5;66;03m# broadcast across multiple columns if necessary\u001B[39;00m\n\u001B[1;32m   4179\u001B[0m         \u001B[38;5;28;01mif\u001B[39;00m \u001B[38;5;129;01mnot\u001B[39;00m \u001B[38;5;28mself\u001B[39m\u001B[38;5;241m.\u001B[39mcolumns\u001B[38;5;241m.\u001B[39mis_unique \u001B[38;5;129;01mor\u001B[39;00m \u001B[38;5;28misinstance\u001B[39m(\u001B[38;5;28mself\u001B[39m\u001B[38;5;241m.\u001B[39mcolumns, MultiIndex):\n",
      "File \u001B[0;32m/opt/miniconda3/envs/hackathon/lib/python3.11/site-packages/pandas/core/frame.py:4901\u001B[0m, in \u001B[0;36mDataFrame._sanitize_column\u001B[0;34m(self, value)\u001B[0m\n\u001B[1;32m   4899\u001B[0m     \u001B[38;5;28;01mreturn\u001B[39;00m _reindex_for_setitem(value, \u001B[38;5;28mself\u001B[39m\u001B[38;5;241m.\u001B[39mindex)\n\u001B[1;32m   4900\u001B[0m \u001B[38;5;28;01melif\u001B[39;00m is_dict_like(value):\n\u001B[0;32m-> 4901\u001B[0m     \u001B[38;5;28;01mreturn\u001B[39;00m \u001B[43m_reindex_for_setitem\u001B[49m\u001B[43m(\u001B[49m\u001B[43mSeries\u001B[49m\u001B[43m(\u001B[49m\u001B[43mvalue\u001B[49m\u001B[43m)\u001B[49m\u001B[43m,\u001B[49m\u001B[43m \u001B[49m\u001B[38;5;28;43mself\u001B[39;49m\u001B[38;5;241;43m.\u001B[39;49m\u001B[43mindex\u001B[49m\u001B[43m)\u001B[49m\n\u001B[1;32m   4903\u001B[0m \u001B[38;5;28;01mif\u001B[39;00m is_list_like(value):\n\u001B[1;32m   4904\u001B[0m     com\u001B[38;5;241m.\u001B[39mrequire_length_match(value, \u001B[38;5;28mself\u001B[39m\u001B[38;5;241m.\u001B[39mindex)\n",
      "File \u001B[0;32m/opt/miniconda3/envs/hackathon/lib/python3.11/site-packages/pandas/core/frame.py:12012\u001B[0m, in \u001B[0;36m_reindex_for_setitem\u001B[0;34m(value, index)\u001B[0m\n\u001B[1;32m  12008\u001B[0m \u001B[38;5;28;01mexcept\u001B[39;00m \u001B[38;5;167;01mValueError\u001B[39;00m \u001B[38;5;28;01mas\u001B[39;00m err:\n\u001B[1;32m  12009\u001B[0m     \u001B[38;5;66;03m# raised in MultiIndex.from_tuples, see test_insert_error_msmgs\u001B[39;00m\n\u001B[1;32m  12010\u001B[0m     \u001B[38;5;28;01mif\u001B[39;00m \u001B[38;5;129;01mnot\u001B[39;00m value\u001B[38;5;241m.\u001B[39mindex\u001B[38;5;241m.\u001B[39mis_unique:\n\u001B[1;32m  12011\u001B[0m         \u001B[38;5;66;03m# duplicate axis\u001B[39;00m\n\u001B[0;32m> 12012\u001B[0m         \u001B[38;5;28;01mraise\u001B[39;00m err\n\u001B[1;32m  12014\u001B[0m     \u001B[38;5;28;01mraise\u001B[39;00m \u001B[38;5;167;01mTypeError\u001B[39;00m(\n\u001B[1;32m  12015\u001B[0m         \u001B[38;5;124m\"\u001B[39m\u001B[38;5;124mincompatible index of inserted column with frame index\u001B[39m\u001B[38;5;124m\"\u001B[39m\n\u001B[1;32m  12016\u001B[0m     ) \u001B[38;5;28;01mfrom\u001B[39;00m \u001B[38;5;21;01merr\u001B[39;00m\n\u001B[1;32m  12017\u001B[0m \u001B[38;5;28;01mreturn\u001B[39;00m reindexed_value\n",
      "File \u001B[0;32m/opt/miniconda3/envs/hackathon/lib/python3.11/site-packages/pandas/core/frame.py:12007\u001B[0m, in \u001B[0;36m_reindex_for_setitem\u001B[0;34m(value, index)\u001B[0m\n\u001B[1;32m  12005\u001B[0m \u001B[38;5;66;03m# GH#4107\u001B[39;00m\n\u001B[1;32m  12006\u001B[0m \u001B[38;5;28;01mtry\u001B[39;00m:\n\u001B[0;32m> 12007\u001B[0m     reindexed_value \u001B[38;5;241m=\u001B[39m \u001B[43mvalue\u001B[49m\u001B[38;5;241;43m.\u001B[39;49m\u001B[43mreindex\u001B[49m\u001B[43m(\u001B[49m\u001B[43mindex\u001B[49m\u001B[43m)\u001B[49m\u001B[38;5;241m.\u001B[39m_values\n\u001B[1;32m  12008\u001B[0m \u001B[38;5;28;01mexcept\u001B[39;00m \u001B[38;5;167;01mValueError\u001B[39;00m \u001B[38;5;28;01mas\u001B[39;00m err:\n\u001B[1;32m  12009\u001B[0m     \u001B[38;5;66;03m# raised in MultiIndex.from_tuples, see test_insert_error_msmgs\u001B[39;00m\n\u001B[1;32m  12010\u001B[0m     \u001B[38;5;28;01mif\u001B[39;00m \u001B[38;5;129;01mnot\u001B[39;00m value\u001B[38;5;241m.\u001B[39mindex\u001B[38;5;241m.\u001B[39mis_unique:\n\u001B[1;32m  12011\u001B[0m         \u001B[38;5;66;03m# duplicate axis\u001B[39;00m\n",
      "File \u001B[0;32m/opt/miniconda3/envs/hackathon/lib/python3.11/site-packages/pandas/core/series.py:5094\u001B[0m, in \u001B[0;36mSeries.reindex\u001B[0;34m(self, *args, **kwargs)\u001B[0m\n\u001B[1;32m   5090\u001B[0m         \u001B[38;5;28;01mraise\u001B[39;00m \u001B[38;5;167;01mTypeError\u001B[39;00m(\n\u001B[1;32m   5091\u001B[0m             \u001B[38;5;124m\"\u001B[39m\u001B[38;5;124m'\u001B[39m\u001B[38;5;124mindex\u001B[39m\u001B[38;5;124m'\u001B[39m\u001B[38;5;124m passed as both positional and keyword argument\u001B[39m\u001B[38;5;124m\"\u001B[39m\n\u001B[1;32m   5092\u001B[0m         )\n\u001B[1;32m   5093\u001B[0m     kwargs\u001B[38;5;241m.\u001B[39mupdate({\u001B[38;5;124m\"\u001B[39m\u001B[38;5;124mindex\u001B[39m\u001B[38;5;124m\"\u001B[39m: index})\n\u001B[0;32m-> 5094\u001B[0m \u001B[38;5;28;01mreturn\u001B[39;00m \u001B[38;5;28;43msuper\u001B[39;49m\u001B[43m(\u001B[49m\u001B[43m)\u001B[49m\u001B[38;5;241;43m.\u001B[39;49m\u001B[43mreindex\u001B[49m\u001B[43m(\u001B[49m\u001B[38;5;241;43m*\u001B[39;49m\u001B[38;5;241;43m*\u001B[39;49m\u001B[43mkwargs\u001B[49m\u001B[43m)\u001B[49m\n",
      "File \u001B[0;32m/opt/miniconda3/envs/hackathon/lib/python3.11/site-packages/pandas/core/generic.py:5289\u001B[0m, in \u001B[0;36mNDFrame.reindex\u001B[0;34m(self, *args, **kwargs)\u001B[0m\n\u001B[1;32m   5286\u001B[0m     \u001B[38;5;28;01mreturn\u001B[39;00m \u001B[38;5;28mself\u001B[39m\u001B[38;5;241m.\u001B[39m_reindex_multi(axes, copy, fill_value)\n\u001B[1;32m   5288\u001B[0m \u001B[38;5;66;03m# perform the reindex on the axes\u001B[39;00m\n\u001B[0;32m-> 5289\u001B[0m \u001B[38;5;28;01mreturn\u001B[39;00m \u001B[38;5;28;43mself\u001B[39;49m\u001B[38;5;241;43m.\u001B[39;49m\u001B[43m_reindex_axes\u001B[49m\u001B[43m(\u001B[49m\n\u001B[1;32m   5290\u001B[0m \u001B[43m    \u001B[49m\u001B[43maxes\u001B[49m\u001B[43m,\u001B[49m\u001B[43m \u001B[49m\u001B[43mlevel\u001B[49m\u001B[43m,\u001B[49m\u001B[43m \u001B[49m\u001B[43mlimit\u001B[49m\u001B[43m,\u001B[49m\u001B[43m \u001B[49m\u001B[43mtolerance\u001B[49m\u001B[43m,\u001B[49m\u001B[43m \u001B[49m\u001B[43mmethod\u001B[49m\u001B[43m,\u001B[49m\u001B[43m \u001B[49m\u001B[43mfill_value\u001B[49m\u001B[43m,\u001B[49m\u001B[43m \u001B[49m\u001B[43mcopy\u001B[49m\n\u001B[1;32m   5291\u001B[0m \u001B[43m\u001B[49m\u001B[43m)\u001B[49m\u001B[38;5;241m.\u001B[39m__finalize__(\u001B[38;5;28mself\u001B[39m, method\u001B[38;5;241m=\u001B[39m\u001B[38;5;124m\"\u001B[39m\u001B[38;5;124mreindex\u001B[39m\u001B[38;5;124m\"\u001B[39m)\n",
      "File \u001B[0;32m/opt/miniconda3/envs/hackathon/lib/python3.11/site-packages/pandas/core/generic.py:5309\u001B[0m, in \u001B[0;36mNDFrame._reindex_axes\u001B[0;34m(self, axes, level, limit, tolerance, method, fill_value, copy)\u001B[0m\n\u001B[1;32m   5304\u001B[0m new_index, indexer \u001B[38;5;241m=\u001B[39m ax\u001B[38;5;241m.\u001B[39mreindex(\n\u001B[1;32m   5305\u001B[0m     labels, level\u001B[38;5;241m=\u001B[39mlevel, limit\u001B[38;5;241m=\u001B[39mlimit, tolerance\u001B[38;5;241m=\u001B[39mtolerance, method\u001B[38;5;241m=\u001B[39mmethod\n\u001B[1;32m   5306\u001B[0m )\n\u001B[1;32m   5308\u001B[0m axis \u001B[38;5;241m=\u001B[39m \u001B[38;5;28mself\u001B[39m\u001B[38;5;241m.\u001B[39m_get_axis_number(a)\n\u001B[0;32m-> 5309\u001B[0m obj \u001B[38;5;241m=\u001B[39m \u001B[43mobj\u001B[49m\u001B[38;5;241;43m.\u001B[39;49m\u001B[43m_reindex_with_indexers\u001B[49m\u001B[43m(\u001B[49m\n\u001B[1;32m   5310\u001B[0m \u001B[43m    \u001B[49m\u001B[43m{\u001B[49m\u001B[43maxis\u001B[49m\u001B[43m:\u001B[49m\u001B[43m \u001B[49m\u001B[43m[\u001B[49m\u001B[43mnew_index\u001B[49m\u001B[43m,\u001B[49m\u001B[43m \u001B[49m\u001B[43mindexer\u001B[49m\u001B[43m]\u001B[49m\u001B[43m}\u001B[49m\u001B[43m,\u001B[49m\n\u001B[1;32m   5311\u001B[0m \u001B[43m    \u001B[49m\u001B[43mfill_value\u001B[49m\u001B[38;5;241;43m=\u001B[39;49m\u001B[43mfill_value\u001B[49m\u001B[43m,\u001B[49m\n\u001B[1;32m   5312\u001B[0m \u001B[43m    \u001B[49m\u001B[43mcopy\u001B[49m\u001B[38;5;241;43m=\u001B[39;49m\u001B[43mcopy\u001B[49m\u001B[43m,\u001B[49m\n\u001B[1;32m   5313\u001B[0m \u001B[43m    \u001B[49m\u001B[43mallow_dups\u001B[49m\u001B[38;5;241;43m=\u001B[39;49m\u001B[38;5;28;43;01mFalse\u001B[39;49;00m\u001B[43m,\u001B[49m\n\u001B[1;32m   5314\u001B[0m \u001B[43m\u001B[49m\u001B[43m)\u001B[49m\n\u001B[1;32m   5315\u001B[0m \u001B[38;5;66;03m# If we've made a copy once, no need to make another one\u001B[39;00m\n\u001B[1;32m   5316\u001B[0m copy \u001B[38;5;241m=\u001B[39m \u001B[38;5;28;01mFalse\u001B[39;00m\n",
      "File \u001B[0;32m/opt/miniconda3/envs/hackathon/lib/python3.11/site-packages/pandas/core/generic.py:5355\u001B[0m, in \u001B[0;36mNDFrame._reindex_with_indexers\u001B[0;34m(self, reindexers, fill_value, copy, allow_dups)\u001B[0m\n\u001B[1;32m   5352\u001B[0m     indexer \u001B[38;5;241m=\u001B[39m ensure_platform_int(indexer)\n\u001B[1;32m   5354\u001B[0m \u001B[38;5;66;03m# TODO: speed up on homogeneous DataFrame objects (see _reindex_multi)\u001B[39;00m\n\u001B[0;32m-> 5355\u001B[0m new_data \u001B[38;5;241m=\u001B[39m \u001B[43mnew_data\u001B[49m\u001B[38;5;241;43m.\u001B[39;49m\u001B[43mreindex_indexer\u001B[49m\u001B[43m(\u001B[49m\n\u001B[1;32m   5356\u001B[0m \u001B[43m    \u001B[49m\u001B[43mindex\u001B[49m\u001B[43m,\u001B[49m\n\u001B[1;32m   5357\u001B[0m \u001B[43m    \u001B[49m\u001B[43mindexer\u001B[49m\u001B[43m,\u001B[49m\n\u001B[1;32m   5358\u001B[0m \u001B[43m    \u001B[49m\u001B[43maxis\u001B[49m\u001B[38;5;241;43m=\u001B[39;49m\u001B[43mbaxis\u001B[49m\u001B[43m,\u001B[49m\n\u001B[1;32m   5359\u001B[0m \u001B[43m    \u001B[49m\u001B[43mfill_value\u001B[49m\u001B[38;5;241;43m=\u001B[39;49m\u001B[43mfill_value\u001B[49m\u001B[43m,\u001B[49m\n\u001B[1;32m   5360\u001B[0m \u001B[43m    \u001B[49m\u001B[43mallow_dups\u001B[49m\u001B[38;5;241;43m=\u001B[39;49m\u001B[43mallow_dups\u001B[49m\u001B[43m,\u001B[49m\n\u001B[1;32m   5361\u001B[0m \u001B[43m    \u001B[49m\u001B[43mcopy\u001B[49m\u001B[38;5;241;43m=\u001B[39;49m\u001B[43mcopy\u001B[49m\u001B[43m,\u001B[49m\n\u001B[1;32m   5362\u001B[0m \u001B[43m\u001B[49m\u001B[43m)\u001B[49m\n\u001B[1;32m   5363\u001B[0m \u001B[38;5;66;03m# If we've made a copy once, no need to make another one\u001B[39;00m\n\u001B[1;32m   5364\u001B[0m copy \u001B[38;5;241m=\u001B[39m \u001B[38;5;28;01mFalse\u001B[39;00m\n",
      "File \u001B[0;32m/opt/miniconda3/envs/hackathon/lib/python3.11/site-packages/pandas/core/internals/managers.py:729\u001B[0m, in \u001B[0;36mBaseBlockManager.reindex_indexer\u001B[0;34m(self, new_axis, indexer, axis, fill_value, allow_dups, copy, only_slice, use_na_proxy)\u001B[0m\n\u001B[1;32m    727\u001B[0m \u001B[38;5;66;03m# some axes don't allow reindexing with dups\u001B[39;00m\n\u001B[1;32m    728\u001B[0m \u001B[38;5;28;01mif\u001B[39;00m \u001B[38;5;129;01mnot\u001B[39;00m allow_dups:\n\u001B[0;32m--> 729\u001B[0m     \u001B[38;5;28;43mself\u001B[39;49m\u001B[38;5;241;43m.\u001B[39;49m\u001B[43maxes\u001B[49m\u001B[43m[\u001B[49m\u001B[43maxis\u001B[49m\u001B[43m]\u001B[49m\u001B[38;5;241;43m.\u001B[39;49m\u001B[43m_validate_can_reindex\u001B[49m\u001B[43m(\u001B[49m\u001B[43mindexer\u001B[49m\u001B[43m)\u001B[49m\n\u001B[1;32m    731\u001B[0m \u001B[38;5;28;01mif\u001B[39;00m axis \u001B[38;5;241m>\u001B[39m\u001B[38;5;241m=\u001B[39m \u001B[38;5;28mself\u001B[39m\u001B[38;5;241m.\u001B[39mndim:\n\u001B[1;32m    732\u001B[0m     \u001B[38;5;28;01mraise\u001B[39;00m \u001B[38;5;167;01mIndexError\u001B[39;00m(\u001B[38;5;124m\"\u001B[39m\u001B[38;5;124mRequested axis not found in manager\u001B[39m\u001B[38;5;124m\"\u001B[39m)\n",
      "File \u001B[0;32m/opt/miniconda3/envs/hackathon/lib/python3.11/site-packages/pandas/core/indexes/base.py:4359\u001B[0m, in \u001B[0;36mIndex._validate_can_reindex\u001B[0;34m(self, indexer)\u001B[0m\n\u001B[1;32m   4357\u001B[0m \u001B[38;5;66;03m# trying to reindex on an axis with duplicates\u001B[39;00m\n\u001B[1;32m   4358\u001B[0m \u001B[38;5;28;01mif\u001B[39;00m \u001B[38;5;129;01mnot\u001B[39;00m \u001B[38;5;28mself\u001B[39m\u001B[38;5;241m.\u001B[39m_index_as_unique \u001B[38;5;129;01mand\u001B[39;00m \u001B[38;5;28mlen\u001B[39m(indexer):\n\u001B[0;32m-> 4359\u001B[0m     \u001B[38;5;28;01mraise\u001B[39;00m \u001B[38;5;167;01mValueError\u001B[39;00m(\u001B[38;5;124m\"\u001B[39m\u001B[38;5;124mcannot reindex on an axis with duplicate labels\u001B[39m\u001B[38;5;124m\"\u001B[39m)\n",
      "\u001B[0;31mValueError\u001B[0m: cannot reindex on an axis with duplicate labels"
     ]
    }
   ],
   "source": [
    "for x, d in enumerate(datasets):\n",
    "    print('dataset:', f'{x+1}/{len(datasets)}')\n",
    "    data = join_nearest(data, datasets[d], d, max_dist=10000, plot=False)\n",
    "print('Columns after:', len(data.columns))\n",
    "print('Rows after:',len(data.index))"
   ],
   "metadata": {
    "collapsed": false
   }
  },
  {
   "cell_type": "code",
   "execution_count": 167,
   "outputs": [
    {
     "data": {
      "text/plain": "      field_1    coord_x    coord_y        city canton    year  \\\n0           0  2747136.1  1256043.3  St. Gallen     SG  1965.0   \n1           1  2745364.3  1254156.2  St. Gallen     SG  1918.0   \n2           2  2748011.7  1255777.0  St. Gallen     SG  1993.0   \n3           3  2746893.3  1254690.5  St. Gallen     SG  1919.0   \n4           4  2745703.6  1252892.3  St. Gallen     SG  2009.0   \n...       ...        ...        ...         ...    ...     ...   \n44940   44940  2746823.3  1254909.0  St. Gallen     SG  1950.0   \n44941   44941  2745070.9  1254587.6  St. Gallen     SG  1964.0   \n44942   44942  2745008.3  1253419.7  St. Gallen     SG  1918.0   \n44943   44943  2745799.0  1253988.6  St. Gallen     SG  1953.0   \n44944   44944  2742985.5  1253133.7  St. Gallen     SG  2014.0   \n\n              street_name street_number multiple_floors num_rooms  ...  \\\n0      Unterer Hompeliweg             4             0.0       2.0  ...   \n1        Rosenbergstrasse            91             0.0       3.0  ...   \n2           Lindenstrasse           126             0.0       4.0  ...   \n3        Konkordiastrasse            34             0.0       2.0  ...   \n4             Wattstrasse            13             0.0       4.0  ...   \n...                   ...           ...             ...       ...  ...   \n44940     Volksbadstrasse             8             0.0       2.0  ...   \n44941      Schorenstrasse            50             0.0       2.0  ...   \n44942       Vonwilstrasse             5             0.0       4.0  ...   \n44943    Teufener Strasse            12             0.0       3.0  ...   \n44944      Ullmannstrasse            15             0.0       3.0  ...   \n\n                 latitude price street_safety_score                  geometry  \\\n0       47.43872666567338        26.708782183427797  POINT (9.38934 47.43873)   \n1      47.422152607247895          8.69700949838709  POINT (9.36524 47.42215)   \n2         47.436135950539        17.934163974995577  POINT (9.40085 47.43614)   \n3      47.426617352823904         38.06644858574981  POINT (9.38567 47.42662)   \n4       47.41071327626508        32.640382373512246  POINT (9.36933 47.41071)   \n...                   ...   ...                 ...                       ...   \n44940   47.42859759005008        29.812277998256118  POINT (9.38482 47.42860)   \n44941  47.426096245766495        15.999024929727952  POINT (9.36150 47.42610)   \n44942   47.41560887577516         36.22394403284855  POINT (9.36029 47.41561)   \n44943   47.42054951709161         27.81168933207453  POINT (9.37095 47.42055)   \n44944   47.41347964535844        22.494919973629823  POINT (9.33340 47.41348)   \n\n      dist_to_sammelstelle dist_to_robidog dist_to_begegnung dist_to_tempo30  \\\n0               644.074956       89.988499       1952.029222        0.000000   \n1               658.903781      229.912435        225.241834       32.533245   \n2               814.606751      321.852793       2235.347240        0.000000   \n3               418.028153      180.784431          8.787023        0.000000   \n4               355.818808      116.108031        609.836104        0.000000   \n...                    ...             ...               ...             ...   \n44940           485.880798      135.719144        224.694868        0.000000   \n44941           125.284982      459.639440        782.964975        0.000000   \n44942           504.015573      177.847360        400.891676       64.358629   \n44943           144.780642      247.463608         70.077493       71.013461   \n44944           303.553634       66.069149       1728.382409        0.000000   \n\n      dist_to_veloplaetze  dist_to_parkplaetze  \n0              298.850558            54.173893  \n1               47.849680           138.720386  \n2              359.827386            20.763415  \n3              131.839969            17.072152  \n4              304.286414           317.911586  \n...                   ...                  ...  \n44940           51.285126             7.240906  \n44941           93.306868            40.428942  \n44942          242.225028            18.619930  \n44943           16.002250            13.642580  \n44944          190.956299           120.625661  \n\n[44945 rows x 25 columns]",
      "text/html": "<div>\n<style scoped>\n    .dataframe tbody tr th:only-of-type {\n        vertical-align: middle;\n    }\n\n    .dataframe tbody tr th {\n        vertical-align: top;\n    }\n\n    .dataframe thead th {\n        text-align: right;\n    }\n</style>\n<table border=\"1\" class=\"dataframe\">\n  <thead>\n    <tr style=\"text-align: right;\">\n      <th></th>\n      <th>field_1</th>\n      <th>coord_x</th>\n      <th>coord_y</th>\n      <th>city</th>\n      <th>canton</th>\n      <th>year</th>\n      <th>street_name</th>\n      <th>street_number</th>\n      <th>multiple_floors</th>\n      <th>num_rooms</th>\n      <th>...</th>\n      <th>latitude</th>\n      <th>price</th>\n      <th>street_safety_score</th>\n      <th>geometry</th>\n      <th>dist_to_sammelstelle</th>\n      <th>dist_to_robidog</th>\n      <th>dist_to_begegnung</th>\n      <th>dist_to_tempo30</th>\n      <th>dist_to_veloplaetze</th>\n      <th>dist_to_parkplaetze</th>\n    </tr>\n  </thead>\n  <tbody>\n    <tr>\n      <th>0</th>\n      <td>0</td>\n      <td>2747136.1</td>\n      <td>1256043.3</td>\n      <td>St. Gallen</td>\n      <td>SG</td>\n      <td>1965.0</td>\n      <td>Unterer Hompeliweg</td>\n      <td>4</td>\n      <td>0.0</td>\n      <td>2.0</td>\n      <td>...</td>\n      <td>47.43872666567338</td>\n      <td></td>\n      <td>26.708782183427797</td>\n      <td>POINT (9.38934 47.43873)</td>\n      <td>644.074956</td>\n      <td>89.988499</td>\n      <td>1952.029222</td>\n      <td>0.000000</td>\n      <td>298.850558</td>\n      <td>54.173893</td>\n    </tr>\n    <tr>\n      <th>1</th>\n      <td>1</td>\n      <td>2745364.3</td>\n      <td>1254156.2</td>\n      <td>St. Gallen</td>\n      <td>SG</td>\n      <td>1918.0</td>\n      <td>Rosenbergstrasse</td>\n      <td>91</td>\n      <td>0.0</td>\n      <td>3.0</td>\n      <td>...</td>\n      <td>47.422152607247895</td>\n      <td></td>\n      <td>8.69700949838709</td>\n      <td>POINT (9.36524 47.42215)</td>\n      <td>658.903781</td>\n      <td>229.912435</td>\n      <td>225.241834</td>\n      <td>32.533245</td>\n      <td>47.849680</td>\n      <td>138.720386</td>\n    </tr>\n    <tr>\n      <th>2</th>\n      <td>2</td>\n      <td>2748011.7</td>\n      <td>1255777.0</td>\n      <td>St. Gallen</td>\n      <td>SG</td>\n      <td>1993.0</td>\n      <td>Lindenstrasse</td>\n      <td>126</td>\n      <td>0.0</td>\n      <td>4.0</td>\n      <td>...</td>\n      <td>47.436135950539</td>\n      <td></td>\n      <td>17.934163974995577</td>\n      <td>POINT (9.40085 47.43614)</td>\n      <td>814.606751</td>\n      <td>321.852793</td>\n      <td>2235.347240</td>\n      <td>0.000000</td>\n      <td>359.827386</td>\n      <td>20.763415</td>\n    </tr>\n    <tr>\n      <th>3</th>\n      <td>3</td>\n      <td>2746893.3</td>\n      <td>1254690.5</td>\n      <td>St. Gallen</td>\n      <td>SG</td>\n      <td>1919.0</td>\n      <td>Konkordiastrasse</td>\n      <td>34</td>\n      <td>0.0</td>\n      <td>2.0</td>\n      <td>...</td>\n      <td>47.426617352823904</td>\n      <td></td>\n      <td>38.06644858574981</td>\n      <td>POINT (9.38567 47.42662)</td>\n      <td>418.028153</td>\n      <td>180.784431</td>\n      <td>8.787023</td>\n      <td>0.000000</td>\n      <td>131.839969</td>\n      <td>17.072152</td>\n    </tr>\n    <tr>\n      <th>4</th>\n      <td>4</td>\n      <td>2745703.6</td>\n      <td>1252892.3</td>\n      <td>St. Gallen</td>\n      <td>SG</td>\n      <td>2009.0</td>\n      <td>Wattstrasse</td>\n      <td>13</td>\n      <td>0.0</td>\n      <td>4.0</td>\n      <td>...</td>\n      <td>47.41071327626508</td>\n      <td></td>\n      <td>32.640382373512246</td>\n      <td>POINT (9.36933 47.41071)</td>\n      <td>355.818808</td>\n      <td>116.108031</td>\n      <td>609.836104</td>\n      <td>0.000000</td>\n      <td>304.286414</td>\n      <td>317.911586</td>\n    </tr>\n    <tr>\n      <th>...</th>\n      <td>...</td>\n      <td>...</td>\n      <td>...</td>\n      <td>...</td>\n      <td>...</td>\n      <td>...</td>\n      <td>...</td>\n      <td>...</td>\n      <td>...</td>\n      <td>...</td>\n      <td>...</td>\n      <td>...</td>\n      <td>...</td>\n      <td>...</td>\n      <td>...</td>\n      <td>...</td>\n      <td>...</td>\n      <td>...</td>\n      <td>...</td>\n      <td>...</td>\n      <td>...</td>\n    </tr>\n    <tr>\n      <th>44940</th>\n      <td>44940</td>\n      <td>2746823.3</td>\n      <td>1254909.0</td>\n      <td>St. Gallen</td>\n      <td>SG</td>\n      <td>1950.0</td>\n      <td>Volksbadstrasse</td>\n      <td>8</td>\n      <td>0.0</td>\n      <td>2.0</td>\n      <td>...</td>\n      <td>47.42859759005008</td>\n      <td></td>\n      <td>29.812277998256118</td>\n      <td>POINT (9.38482 47.42860)</td>\n      <td>485.880798</td>\n      <td>135.719144</td>\n      <td>224.694868</td>\n      <td>0.000000</td>\n      <td>51.285126</td>\n      <td>7.240906</td>\n    </tr>\n    <tr>\n      <th>44941</th>\n      <td>44941</td>\n      <td>2745070.9</td>\n      <td>1254587.6</td>\n      <td>St. Gallen</td>\n      <td>SG</td>\n      <td>1964.0</td>\n      <td>Schorenstrasse</td>\n      <td>50</td>\n      <td>0.0</td>\n      <td>2.0</td>\n      <td>...</td>\n      <td>47.426096245766495</td>\n      <td></td>\n      <td>15.999024929727952</td>\n      <td>POINT (9.36150 47.42610)</td>\n      <td>125.284982</td>\n      <td>459.639440</td>\n      <td>782.964975</td>\n      <td>0.000000</td>\n      <td>93.306868</td>\n      <td>40.428942</td>\n    </tr>\n    <tr>\n      <th>44942</th>\n      <td>44942</td>\n      <td>2745008.3</td>\n      <td>1253419.7</td>\n      <td>St. Gallen</td>\n      <td>SG</td>\n      <td>1918.0</td>\n      <td>Vonwilstrasse</td>\n      <td>5</td>\n      <td>0.0</td>\n      <td>4.0</td>\n      <td>...</td>\n      <td>47.41560887577516</td>\n      <td></td>\n      <td>36.22394403284855</td>\n      <td>POINT (9.36029 47.41561)</td>\n      <td>504.015573</td>\n      <td>177.847360</td>\n      <td>400.891676</td>\n      <td>64.358629</td>\n      <td>242.225028</td>\n      <td>18.619930</td>\n    </tr>\n    <tr>\n      <th>44943</th>\n      <td>44943</td>\n      <td>2745799.0</td>\n      <td>1253988.6</td>\n      <td>St. Gallen</td>\n      <td>SG</td>\n      <td>1953.0</td>\n      <td>Teufener Strasse</td>\n      <td>12</td>\n      <td>0.0</td>\n      <td>3.0</td>\n      <td>...</td>\n      <td>47.42054951709161</td>\n      <td></td>\n      <td>27.81168933207453</td>\n      <td>POINT (9.37095 47.42055)</td>\n      <td>144.780642</td>\n      <td>247.463608</td>\n      <td>70.077493</td>\n      <td>71.013461</td>\n      <td>16.002250</td>\n      <td>13.642580</td>\n    </tr>\n    <tr>\n      <th>44944</th>\n      <td>44944</td>\n      <td>2742985.5</td>\n      <td>1253133.7</td>\n      <td>St. Gallen</td>\n      <td>SG</td>\n      <td>2014.0</td>\n      <td>Ullmannstrasse</td>\n      <td>15</td>\n      <td>0.0</td>\n      <td>3.0</td>\n      <td>...</td>\n      <td>47.41347964535844</td>\n      <td></td>\n      <td>22.494919973629823</td>\n      <td>POINT (9.33340 47.41348)</td>\n      <td>303.553634</td>\n      <td>66.069149</td>\n      <td>1728.382409</td>\n      <td>0.000000</td>\n      <td>190.956299</td>\n      <td>120.625661</td>\n    </tr>\n  </tbody>\n</table>\n<p>44945 rows × 25 columns</p>\n</div>"
     },
     "execution_count": 167,
     "metadata": {},
     "output_type": "execute_result"
    }
   ],
   "source": [
    "data\n"
   ],
   "metadata": {
    "collapsed": false
   }
  },
  {
   "cell_type": "code",
   "execution_count": 203,
   "outputs": [],
   "source": [
    "data.to_csv('merged_new_cols.csv')"
   ],
   "metadata": {
    "collapsed": false
   }
  },
  {
   "cell_type": "code",
   "execution_count": null,
   "outputs": [],
   "source": [],
   "metadata": {
    "collapsed": false
   }
  }
 ],
 "metadata": {
  "kernelspec": {
   "display_name": "Python 3",
   "language": "python",
   "name": "python3"
  },
  "language_info": {
   "codemirror_mode": {
    "name": "ipython",
    "version": 2
   },
   "file_extension": ".py",
   "mimetype": "text/x-python",
   "name": "python",
   "nbconvert_exporter": "python",
   "pygments_lexer": "ipython2",
   "version": "2.7.6"
  }
 },
 "nbformat": 4,
 "nbformat_minor": 0
}
