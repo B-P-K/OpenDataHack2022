{
 "cells": [
  {
   "cell_type": "code",
   "execution_count": null,
   "id": "781a1677",
   "metadata": {},
   "outputs": [],
   "source": [
    "import requests\n",
    "import json\n",
    "import pandas as pd\n",
    "import time"
   ]
  },
  {
   "cell_type": "code",
   "execution_count": null,
   "id": "bcfba601",
   "metadata": {},
   "outputs": [],
   "source": [
    "HEADERS = {\n",
    "    'User-Agent': 'Mozilla/5.0 (Windows NT 10.0; Win64; x64) AppleWebKit/537.36 (KHTML, like Gecko) Chrome/107.0.0.0 Safari/537.36',\n",
    "    'Host': 'service.newhome.ch',\n",
    "    'Accept': 'text/html,application/xhtml+xml,application/xml;q=0.9,image/webp,*/*;q=0.8',\n",
    "    'Accept-Language': 'de,en-US;q=0.7,en;q=0.3',\n",
    "    'Accept-Encoding': 'gzip, deflate, br',\n",
    "    'DNT': '1',\n",
    "    'Connection': 'keep-alive',\n",
    "    'Upgrade-Insecure-Requests': '1',\n",
    "    'Sec-Fetch-Dest': 'document',\n",
    "    'Sec-Fetch-Mode': 'navigate',\n",
    "    'Sec-Fetch-Site': 'cross-site',\n",
    "    'Sec-Fetch-User': '?1',\n",
    "    'Sec-GPC': '1',\n",
    "    'Cache-Control': 'max-age=0, no-cache',\n",
    "    'Pragma': 'no-cache',\n",
    "}"
   ]
  },
  {
   "cell_type": "code",
   "execution_count": null,
   "id": "51840646",
   "metadata": {},
   "outputs": [],
   "source": [
    "entries = []"
   ]
  },
  {
   "cell_type": "code",
   "execution_count": null,
   "id": "2a18bef7",
   "metadata": {},
   "outputs": [],
   "source": [
    "i = 0\n",
    "while True:\n",
    "    url = f\"https://service.newhome.ch/api/json/reply/SearchListingRequest?offerType=2&location=1%3B3206&propertyType=100&roomsMin=&roomsMax=&numberOfVehiclesMin=&numberOfVehiclesMax=&livingAreaMin=&livingAreaMax=&usableAreaMin=&usableAreaMax=&plotAreaMin=&plotAreaMax=&priceMin=&priceMax=&priceM2Min=&priceM2Max=&floorLoadMin=&floorLoadMax=&roomHeightMin=&roomHeightMax=&constructionYearFrom=&grossReturnFrom=&rowCount=20&skipCount={20*i}&radius=&order=0&propertySubtypes=&equipments=&travelDestinations=&radiusCenterCoordinate=&numberOfSpecialPromotions=4&languageIso=de\"\n",
    "    r = requests.get(url=url, headers=HEADERS)\n",
    "    i += 1\n",
    "    print(f'loading page {i: 2}, response {r}')\n",
    "    query_result = json.loads(r.content)\n",
    "    entries.extend(query_result['entries'])\n",
    "    if len(query_result['entries']) < 20:\n",
    "        break\n",
    "    time.sleep(5)"
   ]
  },
  {
   "cell_type": "code",
   "execution_count": null,
   "id": "49f6927e",
   "metadata": {
    "scrolled": true
   },
   "outputs": [],
   "source": [
    "# print an example\n",
    "entries[:2]"
   ]
  },
  {
   "cell_type": "code",
   "execution_count": null,
   "id": "40c381d8",
   "metadata": {},
   "outputs": [],
   "source": [
    "# save json\n",
    "with open('newhome_scrape.json', 'w') as json_file:\n",
    "    json.dump(entries, json_file)"
   ]
  },
  {
   "cell_type": "code",
   "execution_count": null,
   "id": "52a24867",
   "metadata": {},
   "outputs": [],
   "source": [
    "# save csv\n",
    "df = pd.DataFrame(entries)\n",
    "df.to_csv('newhome_scrape.csv', index=False)"
   ]
  },
  {
   "cell_type": "code",
   "execution_count": null,
   "id": "ff1c23d6",
   "metadata": {},
   "outputs": [],
   "source": []
  }
 ],
 "metadata": {
  "kernelspec": {
   "display_name": "Python 3 (ipykernel)",
   "language": "python",
   "name": "python3"
  },
  "language_info": {
   "codemirror_mode": {
    "name": "ipython",
    "version": 3
   },
   "file_extension": ".py",
   "mimetype": "text/x-python",
   "name": "python",
   "nbconvert_exporter": "python",
   "pygments_lexer": "ipython3",
   "version": "3.7.3"
  }
 },
 "nbformat": 4,
 "nbformat_minor": 5
}
