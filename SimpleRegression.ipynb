{
 "cells": [
  {
   "cell_type": "code",
   "execution_count": 33,
   "id": "10425b7c",
   "metadata": {},
   "outputs": [],
   "source": [
    "import numpy as np\n",
    "import pandas as pd\n",
    "from sklearn.preprocessing import StandardScaler\n",
    "from sklearn.linear_model import Lasso\n",
    "import matplotlib.pyplot as plt\n",
    "from sklearn.neighbors import KNeighborsRegressor\n",
    "import matplotlib"
   ]
  },
  {
   "cell_type": "markdown",
   "id": "eae6115b",
   "metadata": {},
   "source": [
    "# Preprocessing"
   ]
  },
  {
   "cell_type": "code",
   "execution_count": 2,
   "id": "a6e8d86b",
   "metadata": {},
   "outputs": [],
   "source": [
    "# load data\n",
    "df = pd.read_csv('data/final_data_v1.csv')"
   ]
  },
  {
   "cell_type": "code",
   "execution_count": 3,
   "id": "410e77cd",
   "metadata": {},
   "outputs": [],
   "source": [
    "df['area'] = df['area_x']\n",
    "del df['area_x']\n",
    "del df['area_y']"
   ]
  },
  {
   "cell_type": "code",
   "execution_count": 4,
   "id": "5996e36b",
   "metadata": {},
   "outputs": [
    {
     "name": "stderr",
     "output_type": "stream",
     "text": [
      "/home/fabian/.local/lib/python3.7/site-packages/ipykernel_launcher.py:1: RuntimeWarning: Mean of empty slice\n",
      "  \"\"\"Entry point for launching an IPython kernel.\n"
     ]
    }
   ],
   "source": [
    "df['price'] = np.nanmean(df[['price_x', 'price_y']].to_numpy(), axis=1)\n",
    "del df['price_x']\n",
    "del df['price_y']"
   ]
  },
  {
   "cell_type": "code",
   "execution_count": 5,
   "id": "01813e5f",
   "metadata": {},
   "outputs": [],
   "source": [
    "df = df.copy()"
   ]
  },
  {
   "cell_type": "code",
   "execution_count": 6,
   "id": "5530d59e",
   "metadata": {},
   "outputs": [],
   "source": [
    "# filter rows\n",
    "df = df[['coord_x', 'coord_y', 'year', 'multiple_floors', 'num_rooms', 'area', 'floor', 'street_safety_score', 'dist_to_sammelstelle', 'dist_to_robidog', 'dist_to_begegnung', 'dist_to_tempo30', 'dist_to_veloplaetze', 'dist_to_eventplaetze', 'dist_to_parkplaetze', 'dist_to_ov-haltestelle', 'price']]\n",
    "df['area_per_room'] = df['area'] / df['num_rooms']"
   ]
  },
  {
   "cell_type": "code",
   "execution_count": 7,
   "id": "37b45e19",
   "metadata": {},
   "outputs": [],
   "source": [
    "# split data\n",
    "df_price = df[~df['price'].isna()]\n",
    "split_idx = len(df_price)//2\n",
    "df_train = df_price[:split_idx]\n",
    "df_valid = df_price[split_idx:]\n",
    "\n",
    "x_train = df_train.loc[:, df_price.columns != 'price'].to_numpy()\n",
    "x_valid = df_valid.loc[:, df_price.columns != 'price'].to_numpy()\n",
    "x_full  = df      .loc[:, df_price.columns != 'price'].to_numpy()\n",
    "y_train = df_train['price'].to_numpy()\n",
    "y_valid = df_valid['price'].to_numpy()"
   ]
  },
  {
   "cell_type": "code",
   "execution_count": 8,
   "id": "2b168dee",
   "metadata": {},
   "outputs": [],
   "source": [
    "# normalize data\n",
    "scaler = StandardScaler()\n",
    "x_train = scaler.fit_transform(x_train)\n",
    "x_valid = scaler.transform(x_valid)\n",
    "y_mean = y_train.mean()\n",
    "y_std = y_train.std()\n",
    "y_train = (y_train - y_mean) / y_std\n",
    "# y_valid = (y_valid - y_mean) / y_std\n",
    "x_full = scaler.transform(x_full)"
   ]
  },
  {
   "cell_type": "code",
   "execution_count": 9,
   "id": "46c00348",
   "metadata": {},
   "outputs": [],
   "source": [
    "x_train = np.nan_to_num(x_train, nan=0)\n",
    "x_valid = np.nan_to_num(x_valid, nan=0)\n",
    "x_full  = np.nan_to_num(x_full , nan=0)"
   ]
  },
  {
   "cell_type": "markdown",
   "id": "1de2a071",
   "metadata": {},
   "source": [
    "# Fit Lasso Regressor"
   ]
  },
  {
   "cell_type": "code",
   "execution_count": 40,
   "id": "333afbac",
   "metadata": {},
   "outputs": [],
   "source": [
    "reg = Lasso(alpha=0.05)\n",
    "reg.fit(x_train, y_train)\n",
    "y_pred = reg.predict(x_valid)"
   ]
  },
  {
   "cell_type": "code",
   "execution_count": 41,
   "id": "2592545a",
   "metadata": {},
   "outputs": [
    {
     "data": {
      "text/plain": [
       "array([-0.        , -0.        ,  0.14532423, -0.        ,  0.22123067,\n",
       "        0.40898931,  0.        ,  0.021424  , -0.00895221,  0.        ,\n",
       "       -0.04654455,  0.02750371, -0.        , -0.        ,  0.        ,\n",
       "       -0.        , -0.        ])"
      ]
     },
     "execution_count": 41,
     "metadata": {},
     "output_type": "execute_result"
    }
   ],
   "source": [
    "reg.coef_"
   ]
  },
  {
   "cell_type": "code",
   "execution_count": 43,
   "id": "84b47901",
   "metadata": {},
   "outputs": [
    {
     "data": {
      "text/plain": [
       "['area: 0.4090',\n",
       " 'num_rooms: 0.2212',\n",
       " 'year: 0.1453',\n",
       " 'dist_to_begegnung: -0.0465',\n",
       " 'dist_to_tempo30: 0.0275',\n",
       " 'street_safety_score: 0.0214',\n",
       " 'dist_to_sammelstelle: -0.0090',\n",
       " 'coord_x: -0.0000',\n",
       " 'coord_y: -0.0000',\n",
       " 'multiple_floors: -0.0000',\n",
       " 'floor: 0.0000',\n",
       " 'dist_to_robidog: 0.0000',\n",
       " 'dist_to_veloplaetze: -0.0000',\n",
       " 'dist_to_eventplaetze: -0.0000',\n",
       " 'dist_to_parkplaetze: 0.0000',\n",
       " 'dist_to_ov-haltestelle: -0.0000',\n",
       " 'area_per_room: -0.0000']"
      ]
     },
     "execution_count": 43,
     "metadata": {},
     "output_type": "execute_result"
    }
   ],
   "source": [
    "importance = sorted(zip((col for col in df.columns if col != 'price'), reg.coef_), key=lambda x: -abs(x[1]))\n",
    "[f'{n}: {v:.4f}' for n, v in importance]"
   ]
  },
  {
   "cell_type": "code",
   "execution_count": 13,
   "id": "1d7df22b",
   "metadata": {},
   "outputs": [
    {
     "data": {
      "text/plain": [
       "<matplotlib.collections.PathCollection at 0x7f5f3740f828>"
      ]
     },
     "execution_count": 13,
     "metadata": {},
     "output_type": "execute_result"
    },
    {
     "data": {
      "image/png": "[encoded data removed]",
      "text/plain": [
       "<Figure size 640x480 with 1 Axes>"
      ]
     },
     "metadata": {},
     "output_type": "display_data"
    }
   ],
   "source": [
    "plt.scatter(df_train[importance[0][0]].to_numpy(), y_train)"
   ]
  },
  {
   "cell_type": "code",
   "execution_count": 14,
   "id": "cb0312ab",
   "metadata": {},
   "outputs": [
    {
     "data": {
      "text/plain": [
       "<matplotlib.collections.PathCollection at 0x7f5f37310470>"
      ]
     },
     "execution_count": 14,
     "metadata": {},
     "output_type": "execute_result"
    },
    {
     "data": {
      "image/png": "[encoded data removed]",
      "text/plain": [
       "<Figure size 640x480 with 1 Axes>"
      ]
     },
     "metadata": {},
     "output_type": "display_data"
    }
   ],
   "source": [
    "plt.scatter(df_train[importance[1][0]].to_numpy(), y_train)"
   ]
  },
  {
   "cell_type": "code",
   "execution_count": 38,
   "id": "af46d705",
   "metadata": {},
   "outputs": [
    {
     "data": {
      "text/plain": [
       "Text(0, 0.5, 'Schätzung')"
      ]
     },
     "execution_count": 38,
     "metadata": {},
     "output_type": "execute_result"
    },
    {
     "data": {
      "image/png": "[encoded data removed]",
      "text/plain": [
       "<Figure size 700x700 with 1 Axes>"
      ]
     },
     "metadata": {},
     "output_type": "display_data"
    }
   ],
   "source": [
    "font = {'family' : 'sans-serif',\n",
    "        'size'   : 14}\n",
    "\n",
    "matplotlib.rc('font', **font)\n",
    "\n",
    "plt.figure(figsize=(7, 7))\n",
    "plt.plot([0, 3000], [0, 3000], color=(0, 0, 0, 0.1))\n",
    "plt.scatter(y_valid, y_pred * y_std + y_mean, color='#6aa84f')\n",
    "plt.xlim(0, 3000)\n",
    "plt.ylim(0, 3000)\n",
    "plt.xlabel('Messwert')\n",
    "plt.ylabel('Schätzung')"
   ]
  },
  {
   "cell_type": "code",
   "execution_count": 22,
   "id": "267dbed5",
   "metadata": {},
   "outputs": [
    {
     "data": {
      "text/plain": [
       "0.4671256804041135"
      ]
     },
     "execution_count": 22,
     "metadata": {},
     "output_type": "execute_result"
    }
   ],
   "source": [
    "(((y_valid - y_mean) / y_std - y_pred)**2).mean()"
   ]
  },
  {
   "cell_type": "code",
   "execution_count": 23,
   "id": "a90355d7",
   "metadata": {},
   "outputs": [
    {
     "data": {
      "text/plain": [
       "282.70117878192536"
      ]
     },
     "execution_count": 23,
     "metadata": {},
     "output_type": "execute_result"
    }
   ],
   "source": [
    "(np.abs(y_valid - (y_pred * y_std + y_mean))).mean()"
   ]
  },
  {
   "cell_type": "code",
   "execution_count": 16,
   "id": "b1f9e0ee",
   "metadata": {},
   "outputs": [],
   "source": [
    "df['prediction'] = reg.predict(x_full) * y_std + y_mean\n",
    "df.to_csv('data/final_data_v2.csv', index=False)"
   ]
  },
  {
   "cell_type": "code",
   "execution_count": 17,
   "id": "36f2783a",
   "metadata": {},
   "outputs": [
    {
     "data": {
      "text/html": [
       "<div>\n",
       "<style scoped>\n",
       "    .dataframe tbody tr th:only-of-type {\n",
       "        vertical-align: middle;\n",
       "    }\n",
       "\n",
       "    .dataframe tbody tr th {\n",
       "        vertical-align: top;\n",
       "    }\n",
       "\n",
       "    .dataframe thead th {\n",
       "        text-align: right;\n",
       "    }\n",
       "</style>\n",
       "<table border=\"1\" class=\"dataframe\">\n",
       "  <thead>\n",
       "    <tr style=\"text-align: right;\">\n",
       "      <th></th>\n",
       "      <th>coord_x</th>\n",
       "      <th>coord_y</th>\n",
       "      <th>year</th>\n",
       "      <th>multiple_floors</th>\n",
       "      <th>num_rooms</th>\n",
       "      <th>area</th>\n",
       "      <th>floor</th>\n",
       "      <th>street_safety_score</th>\n",
       "      <th>dist_to_sammelstelle</th>\n",
       "      <th>dist_to_robidog</th>\n",
       "      <th>dist_to_begegnung</th>\n",
       "      <th>dist_to_tempo30</th>\n",
       "      <th>dist_to_veloplaetze</th>\n",
       "      <th>dist_to_eventplaetze</th>\n",
       "      <th>dist_to_parkplaetze</th>\n",
       "      <th>dist_to_ov-haltestelle</th>\n",
       "      <th>price</th>\n",
       "      <th>area_per_room</th>\n",
       "      <th>prediction</th>\n",
       "    </tr>\n",
       "  </thead>\n",
       "  <tbody>\n",
       "    <tr>\n",
       "      <th>0</th>\n",
       "      <td>2747136.1</td>\n",
       "      <td>1256043.3</td>\n",
       "      <td>1965.0</td>\n",
       "      <td>0.0</td>\n",
       "      <td>2.0</td>\n",
       "      <td>56.0</td>\n",
       "      <td>1</td>\n",
       "      <td>26.708782</td>\n",
       "      <td>644.074956</td>\n",
       "      <td>89.988499</td>\n",
       "      <td>1952.029222</td>\n",
       "      <td>0.000000</td>\n",
       "      <td>298.850558</td>\n",
       "      <td>2447.544903</td>\n",
       "      <td>54.173893</td>\n",
       "      <td>291.256161</td>\n",
       "      <td>NaN</td>\n",
       "      <td>28.000000</td>\n",
       "      <td>1251.177377</td>\n",
       "    </tr>\n",
       "    <tr>\n",
       "      <th>1</th>\n",
       "      <td>2745364.3</td>\n",
       "      <td>1254156.2</td>\n",
       "      <td>1918.0</td>\n",
       "      <td>0.0</td>\n",
       "      <td>3.0</td>\n",
       "      <td>71.0</td>\n",
       "      <td>9</td>\n",
       "      <td>8.697009</td>\n",
       "      <td>658.903781</td>\n",
       "      <td>229.912435</td>\n",
       "      <td>225.241834</td>\n",
       "      <td>32.533245</td>\n",
       "      <td>47.849680</td>\n",
       "      <td>587.418752</td>\n",
       "      <td>138.720386</td>\n",
       "      <td>180.205680</td>\n",
       "      <td>NaN</td>\n",
       "      <td>23.666667</td>\n",
       "      <td>1399.014045</td>\n",
       "    </tr>\n",
       "    <tr>\n",
       "      <th>2</th>\n",
       "      <td>2748011.7</td>\n",
       "      <td>1255777.0</td>\n",
       "      <td>1993.0</td>\n",
       "      <td>0.0</td>\n",
       "      <td>4.0</td>\n",
       "      <td>85.0</td>\n",
       "      <td>10</td>\n",
       "      <td>17.934164</td>\n",
       "      <td>814.606751</td>\n",
       "      <td>321.852793</td>\n",
       "      <td>2235.347240</td>\n",
       "      <td>0.000000</td>\n",
       "      <td>359.827386</td>\n",
       "      <td>3087.464138</td>\n",
       "      <td>20.763415</td>\n",
       "      <td>264.052449</td>\n",
       "      <td>NaN</td>\n",
       "      <td>21.250000</td>\n",
       "      <td>1747.555956</td>\n",
       "    </tr>\n",
       "    <tr>\n",
       "      <th>3</th>\n",
       "      <td>2746893.3</td>\n",
       "      <td>1254690.5</td>\n",
       "      <td>1919.0</td>\n",
       "      <td>0.0</td>\n",
       "      <td>2.0</td>\n",
       "      <td>40.0</td>\n",
       "      <td>3</td>\n",
       "      <td>38.066449</td>\n",
       "      <td>418.028153</td>\n",
       "      <td>180.784431</td>\n",
       "      <td>8.787023</td>\n",
       "      <td>0.000000</td>\n",
       "      <td>131.839969</td>\n",
       "      <td>919.800520</td>\n",
       "      <td>17.072152</td>\n",
       "      <td>200.103452</td>\n",
       "      <td>NaN</td>\n",
       "      <td>20.000000</td>\n",
       "      <td>1075.950686</td>\n",
       "    </tr>\n",
       "    <tr>\n",
       "      <th>4</th>\n",
       "      <td>2745703.6</td>\n",
       "      <td>1252892.3</td>\n",
       "      <td>2009.0</td>\n",
       "      <td>0.0</td>\n",
       "      <td>4.0</td>\n",
       "      <td>111.0</td>\n",
       "      <td>5</td>\n",
       "      <td>32.640382</td>\n",
       "      <td>355.818808</td>\n",
       "      <td>116.108031</td>\n",
       "      <td>609.836104</td>\n",
       "      <td>0.000000</td>\n",
       "      <td>304.286414</td>\n",
       "      <td>1811.555026</td>\n",
       "      <td>317.911586</td>\n",
       "      <td>253.580167</td>\n",
       "      <td>NaN</td>\n",
       "      <td>27.750000</td>\n",
       "      <td>2066.594461</td>\n",
       "    </tr>\n",
       "    <tr>\n",
       "      <th>...</th>\n",
       "      <td>...</td>\n",
       "      <td>...</td>\n",
       "      <td>...</td>\n",
       "      <td>...</td>\n",
       "      <td>...</td>\n",
       "      <td>...</td>\n",
       "      <td>...</td>\n",
       "      <td>...</td>\n",
       "      <td>...</td>\n",
       "      <td>...</td>\n",
       "      <td>...</td>\n",
       "      <td>...</td>\n",
       "      <td>...</td>\n",
       "      <td>...</td>\n",
       "      <td>...</td>\n",
       "      <td>...</td>\n",
       "      <td>...</td>\n",
       "      <td>...</td>\n",
       "      <td>...</td>\n",
       "    </tr>\n",
       "    <tr>\n",
       "      <th>45222</th>\n",
       "      <td>2746823.3</td>\n",
       "      <td>1254909.0</td>\n",
       "      <td>1950.0</td>\n",
       "      <td>0.0</td>\n",
       "      <td>2.0</td>\n",
       "      <td>54.0</td>\n",
       "      <td>19</td>\n",
       "      <td>29.812278</td>\n",
       "      <td>485.880798</td>\n",
       "      <td>135.719144</td>\n",
       "      <td>224.694868</td>\n",
       "      <td>0.000000</td>\n",
       "      <td>51.285126</td>\n",
       "      <td>921.778641</td>\n",
       "      <td>7.240906</td>\n",
       "      <td>110.485827</td>\n",
       "      <td>NaN</td>\n",
       "      <td>27.000000</td>\n",
       "      <td>1248.607416</td>\n",
       "    </tr>\n",
       "    <tr>\n",
       "      <th>45223</th>\n",
       "      <td>2745070.9</td>\n",
       "      <td>1254587.6</td>\n",
       "      <td>1964.0</td>\n",
       "      <td>0.0</td>\n",
       "      <td>2.0</td>\n",
       "      <td>42.0</td>\n",
       "      <td>9</td>\n",
       "      <td>15.999025</td>\n",
       "      <td>125.284982</td>\n",
       "      <td>459.639440</td>\n",
       "      <td>782.964975</td>\n",
       "      <td>0.000000</td>\n",
       "      <td>93.306868</td>\n",
       "      <td>1148.463371</td>\n",
       "      <td>40.428942</td>\n",
       "      <td>129.191915</td>\n",
       "      <td>NaN</td>\n",
       "      <td>21.000000</td>\n",
       "      <td>1161.065867</td>\n",
       "    </tr>\n",
       "    <tr>\n",
       "      <th>45224</th>\n",
       "      <td>2745008.3</td>\n",
       "      <td>1253419.7</td>\n",
       "      <td>1918.0</td>\n",
       "      <td>0.0</td>\n",
       "      <td>4.0</td>\n",
       "      <td>95.0</td>\n",
       "      <td>2</td>\n",
       "      <td>36.223944</td>\n",
       "      <td>504.015573</td>\n",
       "      <td>177.847360</td>\n",
       "      <td>400.891676</td>\n",
       "      <td>64.358629</td>\n",
       "      <td>242.225028</td>\n",
       "      <td>1559.725642</td>\n",
       "      <td>18.619930</td>\n",
       "      <td>63.551300</td>\n",
       "      <td>NaN</td>\n",
       "      <td>23.750000</td>\n",
       "      <td>1741.859261</td>\n",
       "    </tr>\n",
       "    <tr>\n",
       "      <th>45225</th>\n",
       "      <td>2745799.0</td>\n",
       "      <td>1253988.6</td>\n",
       "      <td>1953.0</td>\n",
       "      <td>0.0</td>\n",
       "      <td>3.0</td>\n",
       "      <td>76.0</td>\n",
       "      <td>5</td>\n",
       "      <td>27.811689</td>\n",
       "      <td>144.780642</td>\n",
       "      <td>247.463608</td>\n",
       "      <td>70.077493</td>\n",
       "      <td>71.013461</td>\n",
       "      <td>16.002250</td>\n",
       "      <td>183.470697</td>\n",
       "      <td>13.642580</td>\n",
       "      <td>264.240164</td>\n",
       "      <td>NaN</td>\n",
       "      <td>25.333333</td>\n",
       "      <td>1570.591366</td>\n",
       "    </tr>\n",
       "    <tr>\n",
       "      <th>45226</th>\n",
       "      <td>2742985.5</td>\n",
       "      <td>1253133.7</td>\n",
       "      <td>2014.0</td>\n",
       "      <td>0.0</td>\n",
       "      <td>3.0</td>\n",
       "      <td>93.0</td>\n",
       "      <td>7</td>\n",
       "      <td>22.494920</td>\n",
       "      <td>303.553634</td>\n",
       "      <td>66.069149</td>\n",
       "      <td>1728.382409</td>\n",
       "      <td>0.000000</td>\n",
       "      <td>190.956299</td>\n",
       "      <td>4393.611895</td>\n",
       "      <td>120.625661</td>\n",
       "      <td>382.420558</td>\n",
       "      <td>NaN</td>\n",
       "      <td>31.000000</td>\n",
       "      <td>1786.177046</td>\n",
       "    </tr>\n",
       "  </tbody>\n",
       "</table>\n",
       "<p>45227 rows × 19 columns</p>\n",
       "</div>"
      ],
      "text/plain": [
       "         coord_x    coord_y    year  multiple_floors  num_rooms   area  floor  \\\n",
       "0      2747136.1  1256043.3  1965.0              0.0        2.0   56.0      1   \n",
       "1      2745364.3  1254156.2  1918.0              0.0        3.0   71.0      9   \n",
       "2      2748011.7  1255777.0  1993.0              0.0        4.0   85.0     10   \n",
       "3      2746893.3  1254690.5  1919.0              0.0        2.0   40.0      3   \n",
       "4      2745703.6  1252892.3  2009.0              0.0        4.0  111.0      5   \n",
       "...          ...        ...     ...              ...        ...    ...    ...   \n",
       "45222  2746823.3  1254909.0  1950.0              0.0        2.0   54.0     19   \n",
       "45223  2745070.9  1254587.6  1964.0              0.0        2.0   42.0      9   \n",
       "45224  2745008.3  1253419.7  1918.0              0.0        4.0   95.0      2   \n",
       "45225  2745799.0  1253988.6  1953.0              0.0        3.0   76.0      5   \n",
       "45226  2742985.5  1253133.7  2014.0              0.0        3.0   93.0      7   \n",
       "\n",
       "       street_safety_score  dist_to_sammelstelle  dist_to_robidog  \\\n",
       "0                26.708782            644.074956        89.988499   \n",
       "1                 8.697009            658.903781       229.912435   \n",
       "2                17.934164            814.606751       321.852793   \n",
       "3                38.066449            418.028153       180.784431   \n",
       "4                32.640382            355.818808       116.108031   \n",
       "...                    ...                   ...              ...   \n",
       "45222            29.812278            485.880798       135.719144   \n",
       "45223            15.999025            125.284982       459.639440   \n",
       "45224            36.223944            504.015573       177.847360   \n",
       "45225            27.811689            144.780642       247.463608   \n",
       "45226            22.494920            303.553634        66.069149   \n",
       "\n",
       "       dist_to_begegnung  dist_to_tempo30  dist_to_veloplaetze  \\\n",
       "0            1952.029222         0.000000           298.850558   \n",
       "1             225.241834        32.533245            47.849680   \n",
       "2            2235.347240         0.000000           359.827386   \n",
       "3               8.787023         0.000000           131.839969   \n",
       "4             609.836104         0.000000           304.286414   \n",
       "...                  ...              ...                  ...   \n",
       "45222         224.694868         0.000000            51.285126   \n",
       "45223         782.964975         0.000000            93.306868   \n",
       "45224         400.891676        64.358629           242.225028   \n",
       "45225          70.077493        71.013461            16.002250   \n",
       "45226        1728.382409         0.000000           190.956299   \n",
       "\n",
       "       dist_to_eventplaetze  dist_to_parkplaetze  dist_to_ov-haltestelle  \\\n",
       "0               2447.544903            54.173893              291.256161   \n",
       "1                587.418752           138.720386              180.205680   \n",
       "2               3087.464138            20.763415              264.052449   \n",
       "3                919.800520            17.072152              200.103452   \n",
       "4               1811.555026           317.911586              253.580167   \n",
       "...                     ...                  ...                     ...   \n",
       "45222            921.778641             7.240906              110.485827   \n",
       "45223           1148.463371            40.428942              129.191915   \n",
       "45224           1559.725642            18.619930               63.551300   \n",
       "45225            183.470697            13.642580              264.240164   \n",
       "45226           4393.611895           120.625661              382.420558   \n",
       "\n",
       "       price  area_per_room   prediction  \n",
       "0        NaN      28.000000  1251.177377  \n",
       "1        NaN      23.666667  1399.014045  \n",
       "2        NaN      21.250000  1747.555956  \n",
       "3        NaN      20.000000  1075.950686  \n",
       "4        NaN      27.750000  2066.594461  \n",
       "...      ...            ...          ...  \n",
       "45222    NaN      27.000000  1248.607416  \n",
       "45223    NaN      21.000000  1161.065867  \n",
       "45224    NaN      23.750000  1741.859261  \n",
       "45225    NaN      25.333333  1570.591366  \n",
       "45226    NaN      31.000000  1786.177046  \n",
       "\n",
       "[45227 rows x 19 columns]"
      ]
     },
     "execution_count": 17,
     "metadata": {},
     "output_type": "execute_result"
    }
   ],
   "source": [
    "df"
   ]
  },
  {
   "cell_type": "markdown",
   "id": "d2e44382",
   "metadata": {},
   "source": [
    "# Fit KNN Regressor"
   ]
  },
  {
   "cell_type": "code",
   "execution_count": 18,
   "id": "754094e9",
   "metadata": {},
   "outputs": [],
   "source": [
    "reg = KNeighborsRegressor(n_neighbors=5)\n",
    "reg.fit(x_train, y_train)\n",
    "y_pred = reg.predict(x_valid)"
   ]
  },
  {
   "cell_type": "code",
   "execution_count": 19,
   "id": "720628ac",
   "metadata": {},
   "outputs": [
    {
     "data": {
      "text/plain": [
       "(0.0, 3000.0)"
      ]
     },
     "execution_count": 19,
     "metadata": {},
     "output_type": "execute_result"
    },
    {
     "data": {
      "image/png": "[encoded data removed]",
      "text/plain": [
       "<Figure size 640x480 with 1 Axes>"
      ]
     },
     "metadata": {},
     "output_type": "display_data"
    }
   ],
   "source": [
    "plt.plot([0, 3000], [0, 3000], color=(0, 0, 0, 0.1))\n",
    "plt.scatter(y_valid, y_pred * y_std + y_mean)\n",
    "plt.xlim(0, 3000)\n",
    "plt.ylim(0, 3000)"
   ]
  },
  {
   "cell_type": "code",
   "execution_count": null,
   "id": "082ede0d",
   "metadata": {},
   "outputs": [],
   "source": []
  }
 ],
 "metadata": {
  "kernelspec": {
   "display_name": "Python 3 (ipykernel)",
   "language": "python",
   "name": "python3"
  },
  "language_info": {
   "codemirror_mode": {
    "name": "ipython",
    "version": 3
   },
   "file_extension": ".py",
   "mimetype": "text/x-python",
   "name": "python",
   "nbconvert_exporter": "python",
   "pygments_lexer": "ipython3",
   "version": "3.7.3"
  }
 },
 "nbformat": 4,
 "nbformat_minor": 5
}
