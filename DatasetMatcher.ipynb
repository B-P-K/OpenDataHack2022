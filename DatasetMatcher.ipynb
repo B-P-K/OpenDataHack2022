{
 "cells": [
  {
   "cell_type": "code",
   "execution_count": null,
   "id": "10dc72f1",
   "metadata": {},
   "outputs": [],
   "source": [
    "import numpy as np\n",
    "import pandas as pd\n",
    "import matplotlib.pyplot as plt"
   ]
  },
  {
   "cell_type": "code",
   "execution_count": null,
   "id": "fe11b8c0",
   "metadata": {},
   "outputs": [],
   "source": [
    "df_gwr = pd.read_csv('data/gwr_cleaned_large_wgs84.csv')\n",
    "df_price = pd.read_csv('data/newhome_scrape.csv', index_col=0)"
   ]
  },
  {
   "cell_type": "code",
   "execution_count": null,
   "id": "21cbcae4",
   "metadata": {},
   "outputs": [],
   "source": [
    "df_price.loc[df_price['floor'].isna(), 'floor'] = 1"
   ]
  },
  {
   "cell_type": "code",
   "execution_count": null,
   "id": "125cc998",
   "metadata": {},
   "outputs": [],
   "source": [
    "df_price['rooms'] = df_price['rooms'].map(lambda x: int(x) if not np.isnan(x) else 0)"
   ]
  },
  {
   "cell_type": "code",
   "execution_count": null,
   "id": "3c23e0b0",
   "metadata": {},
   "outputs": [],
   "source": [
    "df_gwr['street'] = df_gwr.apply(lambda row: row['street_name'] + ' ' + row['street_number'], axis=1)"
   ]
  },
  {
   "cell_type": "code",
   "execution_count": null,
   "id": "9d575aca",
   "metadata": {},
   "outputs": [],
   "source": [
    "df_gwr['rooms'] = df_gwr['num_rooms']"
   ]
  },
  {
   "cell_type": "code",
   "execution_count": null,
   "id": "982cd585",
   "metadata": {},
   "outputs": [],
   "source": [
    "matched = df_gwr.merge(df_price[['street', 'price', 'floor', 'rooms', 'livingArea']], on=['street', 'floor', 'rooms'], how='left')"
   ]
  },
  {
   "cell_type": "code",
   "execution_count": null,
   "id": "f14177f7",
   "metadata": {},
   "outputs": [],
   "source": [
    "len(matched)"
   ]
  },
  {
   "cell_type": "code",
   "execution_count": null,
   "id": "5d2272f3",
   "metadata": {},
   "outputs": [],
   "source": [
    "plt.scatter(matched['area'], matched['livingArea'], color=(0, 0, 0, 0.2))"
   ]
  },
  {
   "cell_type": "code",
   "execution_count": null,
   "id": "7c30eaa0",
   "metadata": {},
   "outputs": [],
   "source": [
    "del matched['rooms']\n",
    "del matched['street']\n",
    "del matched['livingArea']"
   ]
  },
  {
   "cell_type": "code",
   "execution_count": null,
   "id": "249cb671",
   "metadata": {},
   "outputs": [],
   "source": [
    "matched.sample(frac=1).to_csv('data/merged.csv', index=False)"
   ]
  },
  {
   "cell_type": "code",
   "execution_count": null,
   "id": "7b0ca15b",
   "metadata": {},
   "outputs": [],
   "source": []
  }
 ],
 "metadata": {
  "kernelspec": {
   "display_name": "Python 3 (ipykernel)",
   "language": "python",
   "name": "python3"
  },
  "language_info": {
   "codemirror_mode": {
    "name": "ipython",
    "version": 3
   },
   "file_extension": ".py",
   "mimetype": "text/x-python",
   "name": "python",
   "nbconvert_exporter": "python",
   "pygments_lexer": "ipython3",
   "version": "3.7.3"
  }
 },
 "nbformat": 4,
 "nbformat_minor": 5
}
